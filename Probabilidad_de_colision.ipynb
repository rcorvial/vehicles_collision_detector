{
  "nbformat": 4,
  "nbformat_minor": 0,
  "metadata": {
    "colab": {
      "provenance": []
    },
    "kernelspec": {
      "name": "python3",
      "display_name": "Python 3"
    },
    "language_info": {
      "name": "python"
    }
  },
  "cells": [
    {
      "cell_type": "markdown",
      "metadata": {
        "id": "W9TGJ8Tr4IBN"
      },
      "source": [
        "# 1. Importación de librerías y carga de datos"
      ]
    },
    {
      "cell_type": "code",
      "execution_count": null,
      "metadata": {
        "id": "GIG5_asbnMfv"
      },
      "outputs": [],
      "source": [
        "from google.colab import drive\n",
        "\n",
        "import tensorflow as tf\n",
        "import pandas as pd\n",
        "import numpy as np\n",
        "import pickle\n",
        "import random\n",
        "import scipy\n",
        "import time\n",
        "import os\n",
        "\n",
        "from shapely import geometry\n",
        "import geopy\n",
        "import geopy.distance\n",
        "import math"
      ]
    },
    {
      "cell_type": "code",
      "execution_count": null,
      "metadata": {
        "id": "RSGMAKCXP5Tw"
      },
      "outputs": [],
      "source": [
        "tf.keras.backend.set_floatx('float64')"
      ]
    },
    {
      "cell_type": "code",
      "execution_count": null,
      "metadata": {
        "colab": {
          "base_uri": "https://localhost:8080/"
        },
        "id": "wjsPEeBDnOBV",
        "outputId": "1e8fc7ff-9bf2-4528-c0a3-c160792896bb"
      },
      "outputs": [
        {
          "output_type": "stream",
          "name": "stdout",
          "text": [
            "Mounted at /content/drive\n",
            "/content/drive/MyDrive\n"
          ]
        }
      ],
      "source": [
        "drive.mount('/content/drive', force_remount=True)\n",
        "%cd /content/drive/MyDrive"
      ]
    },
    {
      "cell_type": "code",
      "source": [
        "columns = ['time(s)', 'vehicle_id', 'latitude(m)', 'longitude(m)', 'heading']\n",
        "df = pd.read_csv(\"positions.csv\")\n",
        "df = df[columns]\n",
        "df = df.sort_values(by=['vehicle_id', 'time(s)'])\n",
        "df.head()"
      ],
      "metadata": {
        "colab": {
          "base_uri": "https://localhost:8080/",
          "height": 206
        },
        "id": "IxSqn8_Q50zt",
        "outputId": "86ba4348-4f12-49e1-95f3-b80d98281932"
      },
      "execution_count": null,
      "outputs": [
        {
          "output_type": "execute_result",
          "data": {
            "text/plain": [
              "      time(s)  vehicle_id  latitude(m)  longitude(m)     heading\n",
              "1063     11.0           2    41.391721      2.162130   43.871783\n",
              "1168     12.0           2    41.391790      2.162216   43.871783\n",
              "1273     13.0           2    41.391775      2.162315  124.611142\n",
              "1378     14.0           2    41.391727      2.162396  131.690664\n",
              "1483     15.0           2    41.391681      2.162464  133.978174"
            ],
            "text/html": [
              "\n",
              "  <div id=\"df-8d6b2ae0-3e3a-4bd5-be04-36709772fa80\">\n",
              "    <div class=\"colab-df-container\">\n",
              "      <div>\n",
              "<style scoped>\n",
              "    .dataframe tbody tr th:only-of-type {\n",
              "        vertical-align: middle;\n",
              "    }\n",
              "\n",
              "    .dataframe tbody tr th {\n",
              "        vertical-align: top;\n",
              "    }\n",
              "\n",
              "    .dataframe thead th {\n",
              "        text-align: right;\n",
              "    }\n",
              "</style>\n",
              "<table border=\"1\" class=\"dataframe\">\n",
              "  <thead>\n",
              "    <tr style=\"text-align: right;\">\n",
              "      <th></th>\n",
              "      <th>time(s)</th>\n",
              "      <th>vehicle_id</th>\n",
              "      <th>latitude(m)</th>\n",
              "      <th>longitude(m)</th>\n",
              "      <th>heading</th>\n",
              "    </tr>\n",
              "  </thead>\n",
              "  <tbody>\n",
              "    <tr>\n",
              "      <th>1063</th>\n",
              "      <td>11.0</td>\n",
              "      <td>2</td>\n",
              "      <td>41.391721</td>\n",
              "      <td>2.162130</td>\n",
              "      <td>43.871783</td>\n",
              "    </tr>\n",
              "    <tr>\n",
              "      <th>1168</th>\n",
              "      <td>12.0</td>\n",
              "      <td>2</td>\n",
              "      <td>41.391790</td>\n",
              "      <td>2.162216</td>\n",
              "      <td>43.871783</td>\n",
              "    </tr>\n",
              "    <tr>\n",
              "      <th>1273</th>\n",
              "      <td>13.0</td>\n",
              "      <td>2</td>\n",
              "      <td>41.391775</td>\n",
              "      <td>2.162315</td>\n",
              "      <td>124.611142</td>\n",
              "    </tr>\n",
              "    <tr>\n",
              "      <th>1378</th>\n",
              "      <td>14.0</td>\n",
              "      <td>2</td>\n",
              "      <td>41.391727</td>\n",
              "      <td>2.162396</td>\n",
              "      <td>131.690664</td>\n",
              "    </tr>\n",
              "    <tr>\n",
              "      <th>1483</th>\n",
              "      <td>15.0</td>\n",
              "      <td>2</td>\n",
              "      <td>41.391681</td>\n",
              "      <td>2.162464</td>\n",
              "      <td>133.978174</td>\n",
              "    </tr>\n",
              "  </tbody>\n",
              "</table>\n",
              "</div>\n",
              "      <button class=\"colab-df-convert\" onclick=\"convertToInteractive('df-8d6b2ae0-3e3a-4bd5-be04-36709772fa80')\"\n",
              "              title=\"Convert this dataframe to an interactive table.\"\n",
              "              style=\"display:none;\">\n",
              "        \n",
              "  <svg xmlns=\"http://www.w3.org/2000/svg\" height=\"24px\"viewBox=\"0 0 24 24\"\n",
              "       width=\"24px\">\n",
              "    <path d=\"M0 0h24v24H0V0z\" fill=\"none\"/>\n",
              "    <path d=\"M18.56 5.44l.94 2.06.94-2.06 2.06-.94-2.06-.94-.94-2.06-.94 2.06-2.06.94zm-11 1L8.5 8.5l.94-2.06 2.06-.94-2.06-.94L8.5 2.5l-.94 2.06-2.06.94zm10 10l.94 2.06.94-2.06 2.06-.94-2.06-.94-.94-2.06-.94 2.06-2.06.94z\"/><path d=\"M17.41 7.96l-1.37-1.37c-.4-.4-.92-.59-1.43-.59-.52 0-1.04.2-1.43.59L10.3 9.45l-7.72 7.72c-.78.78-.78 2.05 0 2.83L4 21.41c.39.39.9.59 1.41.59.51 0 1.02-.2 1.41-.59l7.78-7.78 2.81-2.81c.8-.78.8-2.07 0-2.86zM5.41 20L4 18.59l7.72-7.72 1.47 1.35L5.41 20z\"/>\n",
              "  </svg>\n",
              "      </button>\n",
              "      \n",
              "  <style>\n",
              "    .colab-df-container {\n",
              "      display:flex;\n",
              "      flex-wrap:wrap;\n",
              "      gap: 12px;\n",
              "    }\n",
              "\n",
              "    .colab-df-convert {\n",
              "      background-color: #E8F0FE;\n",
              "      border: none;\n",
              "      border-radius: 50%;\n",
              "      cursor: pointer;\n",
              "      display: none;\n",
              "      fill: #1967D2;\n",
              "      height: 32px;\n",
              "      padding: 0 0 0 0;\n",
              "      width: 32px;\n",
              "    }\n",
              "\n",
              "    .colab-df-convert:hover {\n",
              "      background-color: #E2EBFA;\n",
              "      box-shadow: 0px 1px 2px rgba(60, 64, 67, 0.3), 0px 1px 3px 1px rgba(60, 64, 67, 0.15);\n",
              "      fill: #174EA6;\n",
              "    }\n",
              "\n",
              "    [theme=dark] .colab-df-convert {\n",
              "      background-color: #3B4455;\n",
              "      fill: #D2E3FC;\n",
              "    }\n",
              "\n",
              "    [theme=dark] .colab-df-convert:hover {\n",
              "      background-color: #434B5C;\n",
              "      box-shadow: 0px 1px 3px 1px rgba(0, 0, 0, 0.15);\n",
              "      filter: drop-shadow(0px 1px 2px rgba(0, 0, 0, 0.3));\n",
              "      fill: #FFFFFF;\n",
              "    }\n",
              "  </style>\n",
              "\n",
              "      <script>\n",
              "        const buttonEl =\n",
              "          document.querySelector('#df-8d6b2ae0-3e3a-4bd5-be04-36709772fa80 button.colab-df-convert');\n",
              "        buttonEl.style.display =\n",
              "          google.colab.kernel.accessAllowed ? 'block' : 'none';\n",
              "\n",
              "        async function convertToInteractive(key) {\n",
              "          const element = document.querySelector('#df-8d6b2ae0-3e3a-4bd5-be04-36709772fa80');\n",
              "          const dataTable =\n",
              "            await google.colab.kernel.invokeFunction('convertToInteractive',\n",
              "                                                     [key], {});\n",
              "          if (!dataTable) return;\n",
              "\n",
              "          const docLinkHtml = 'Like what you see? Visit the ' +\n",
              "            '<a target=\"_blank\" href=https://colab.research.google.com/notebooks/data_table.ipynb>data table notebook</a>'\n",
              "            + ' to learn more about interactive tables.';\n",
              "          element.innerHTML = '';\n",
              "          dataTable['output_type'] = 'display_data';\n",
              "          await google.colab.output.renderOutput(dataTable, element);\n",
              "          const docLink = document.createElement('div');\n",
              "          docLink.innerHTML = docLinkHtml;\n",
              "          element.appendChild(docLink);\n",
              "        }\n",
              "      </script>\n",
              "    </div>\n",
              "  </div>\n",
              "  "
            ]
          },
          "metadata": {},
          "execution_count": 4
        }
      ]
    },
    {
      "cell_type": "code",
      "source": [
        "# Load fitted model\n",
        "MODEL_FOLDER = os.path.join(\"TFM\", \"implementation\", \"models\", \"scaled\",\n",
        "                            \"LSTM_simple_64units_reducelr0.2\")\n",
        "MODEL_FILE = os.path.join(MODEL_FOLDER, \"model_saved.hdf5\")\n",
        "model = tf.keras.models.load_model(MODEL_FILE)"
      ],
      "metadata": {
        "id": "yvRZ-pw4qfrV"
      },
      "execution_count": null,
      "outputs": []
    },
    {
      "cell_type": "code",
      "source": [
        "# Load testing data\n",
        "DATASETS_FOLDER = os.path.join(\"TFM\", \"implementation\", \"datasets\")\n",
        "DATASET_TEST = os.path.join(DATASETS_FOLDER,\n",
        "                            \"ventanas_no_coincidentes_test_scaled.npz\")\n",
        "npzfile = np.load(DATASET_TEST)\n",
        "X_test = npzfile['X_test']\n",
        "y_test = npzfile['y_test']\n",
        "print(\"X_test: {}  y_test: {}\".format(X_test.shape, y_test.shape))\n",
        "\n",
        "# Load testing vehicle ids list\n",
        "VEHICLE_IDS_FILE = os.path.join(DATASETS_FOLDER, \"vehicle_ids.pkl\")\n",
        "with open(VEHICLE_IDS_FILE, 'rb') as f_vehicle_ids:\n",
        "  vehicle_ids = pickle.load(f_vehicle_ids)\n",
        "print(\"Vehicle_ids: {}\".format(len(vehicle_ids)))"
      ],
      "metadata": {
        "colab": {
          "base_uri": "https://localhost:8080/"
        },
        "id": "UKbl8O-6q1W4",
        "outputId": "2059f934-2fdf-4bdb-9726-5f58b82f3ece"
      },
      "execution_count": null,
      "outputs": [
        {
          "output_type": "stream",
          "name": "stdout",
          "text": [
            "X_test: (2584, 20, 3)  y_test: (2584, 5, 3)\n",
            "Vehicle_ids: 2584\n"
          ]
        }
      ]
    },
    {
      "cell_type": "code",
      "source": [
        "# Load MinMaxScaler for target variables\n",
        "MINMAXSCALER_FILE = os.path.join(\"TFM\", \"implementation\",\n",
        "                            \"data_preparation\", \"minmaxscaler.pkl\")\n",
        "with open(MINMAXSCALER_FILE, 'rb') as f_minmaxscaler:\n",
        "  minmaxscaler = pickle.load(f_minmaxscaler)"
      ],
      "metadata": {
        "id": "gyLGkQCNrqkB"
      },
      "execution_count": null,
      "outputs": []
    },
    {
      "cell_type": "code",
      "execution_count": null,
      "metadata": {
        "colab": {
          "base_uri": "https://localhost:8080/",
          "height": 206
        },
        "id": "TCbub7-hjnzp",
        "outputId": "627afe71-fe96-41b1-c222-0fb3b7154c44"
      },
      "outputs": [
        {
          "output_type": "execute_result",
          "data": {
            "text/plain": [
              "   vehicle_id  length  width\n",
              "0           2     5.0    1.8\n",
              "1           3     5.0    1.8\n",
              "2           4     2.2    0.9\n",
              "3           5     5.0    1.8\n",
              "4           6     5.0    1.8"
            ],
            "text/html": [
              "\n",
              "  <div id=\"df-19e986dd-8d03-453b-bdfb-45e390013f20\">\n",
              "    <div class=\"colab-df-container\">\n",
              "      <div>\n",
              "<style scoped>\n",
              "    .dataframe tbody tr th:only-of-type {\n",
              "        vertical-align: middle;\n",
              "    }\n",
              "\n",
              "    .dataframe tbody tr th {\n",
              "        vertical-align: top;\n",
              "    }\n",
              "\n",
              "    .dataframe thead th {\n",
              "        text-align: right;\n",
              "    }\n",
              "</style>\n",
              "<table border=\"1\" class=\"dataframe\">\n",
              "  <thead>\n",
              "    <tr style=\"text-align: right;\">\n",
              "      <th></th>\n",
              "      <th>vehicle_id</th>\n",
              "      <th>length</th>\n",
              "      <th>width</th>\n",
              "    </tr>\n",
              "  </thead>\n",
              "  <tbody>\n",
              "    <tr>\n",
              "      <th>0</th>\n",
              "      <td>2</td>\n",
              "      <td>5.0</td>\n",
              "      <td>1.8</td>\n",
              "    </tr>\n",
              "    <tr>\n",
              "      <th>1</th>\n",
              "      <td>3</td>\n",
              "      <td>5.0</td>\n",
              "      <td>1.8</td>\n",
              "    </tr>\n",
              "    <tr>\n",
              "      <th>2</th>\n",
              "      <td>4</td>\n",
              "      <td>2.2</td>\n",
              "      <td>0.9</td>\n",
              "    </tr>\n",
              "    <tr>\n",
              "      <th>3</th>\n",
              "      <td>5</td>\n",
              "      <td>5.0</td>\n",
              "      <td>1.8</td>\n",
              "    </tr>\n",
              "    <tr>\n",
              "      <th>4</th>\n",
              "      <td>6</td>\n",
              "      <td>5.0</td>\n",
              "      <td>1.8</td>\n",
              "    </tr>\n",
              "  </tbody>\n",
              "</table>\n",
              "</div>\n",
              "      <button class=\"colab-df-convert\" onclick=\"convertToInteractive('df-19e986dd-8d03-453b-bdfb-45e390013f20')\"\n",
              "              title=\"Convert this dataframe to an interactive table.\"\n",
              "              style=\"display:none;\">\n",
              "        \n",
              "  <svg xmlns=\"http://www.w3.org/2000/svg\" height=\"24px\"viewBox=\"0 0 24 24\"\n",
              "       width=\"24px\">\n",
              "    <path d=\"M0 0h24v24H0V0z\" fill=\"none\"/>\n",
              "    <path d=\"M18.56 5.44l.94 2.06.94-2.06 2.06-.94-2.06-.94-.94-2.06-.94 2.06-2.06.94zm-11 1L8.5 8.5l.94-2.06 2.06-.94-2.06-.94L8.5 2.5l-.94 2.06-2.06.94zm10 10l.94 2.06.94-2.06 2.06-.94-2.06-.94-.94-2.06-.94 2.06-2.06.94z\"/><path d=\"M17.41 7.96l-1.37-1.37c-.4-.4-.92-.59-1.43-.59-.52 0-1.04.2-1.43.59L10.3 9.45l-7.72 7.72c-.78.78-.78 2.05 0 2.83L4 21.41c.39.39.9.59 1.41.59.51 0 1.02-.2 1.41-.59l7.78-7.78 2.81-2.81c.8-.78.8-2.07 0-2.86zM5.41 20L4 18.59l7.72-7.72 1.47 1.35L5.41 20z\"/>\n",
              "  </svg>\n",
              "      </button>\n",
              "      \n",
              "  <style>\n",
              "    .colab-df-container {\n",
              "      display:flex;\n",
              "      flex-wrap:wrap;\n",
              "      gap: 12px;\n",
              "    }\n",
              "\n",
              "    .colab-df-convert {\n",
              "      background-color: #E8F0FE;\n",
              "      border: none;\n",
              "      border-radius: 50%;\n",
              "      cursor: pointer;\n",
              "      display: none;\n",
              "      fill: #1967D2;\n",
              "      height: 32px;\n",
              "      padding: 0 0 0 0;\n",
              "      width: 32px;\n",
              "    }\n",
              "\n",
              "    .colab-df-convert:hover {\n",
              "      background-color: #E2EBFA;\n",
              "      box-shadow: 0px 1px 2px rgba(60, 64, 67, 0.3), 0px 1px 3px 1px rgba(60, 64, 67, 0.15);\n",
              "      fill: #174EA6;\n",
              "    }\n",
              "\n",
              "    [theme=dark] .colab-df-convert {\n",
              "      background-color: #3B4455;\n",
              "      fill: #D2E3FC;\n",
              "    }\n",
              "\n",
              "    [theme=dark] .colab-df-convert:hover {\n",
              "      background-color: #434B5C;\n",
              "      box-shadow: 0px 1px 3px 1px rgba(0, 0, 0, 0.15);\n",
              "      filter: drop-shadow(0px 1px 2px rgba(0, 0, 0, 0.3));\n",
              "      fill: #FFFFFF;\n",
              "    }\n",
              "  </style>\n",
              "\n",
              "      <script>\n",
              "        const buttonEl =\n",
              "          document.querySelector('#df-19e986dd-8d03-453b-bdfb-45e390013f20 button.colab-df-convert');\n",
              "        buttonEl.style.display =\n",
              "          google.colab.kernel.accessAllowed ? 'block' : 'none';\n",
              "\n",
              "        async function convertToInteractive(key) {\n",
              "          const element = document.querySelector('#df-19e986dd-8d03-453b-bdfb-45e390013f20');\n",
              "          const dataTable =\n",
              "            await google.colab.kernel.invokeFunction('convertToInteractive',\n",
              "                                                     [key], {});\n",
              "          if (!dataTable) return;\n",
              "\n",
              "          const docLinkHtml = 'Like what you see? Visit the ' +\n",
              "            '<a target=\"_blank\" href=https://colab.research.google.com/notebooks/data_table.ipynb>data table notebook</a>'\n",
              "            + ' to learn more about interactive tables.';\n",
              "          element.innerHTML = '';\n",
              "          dataTable['output_type'] = 'display_data';\n",
              "          await google.colab.output.renderOutput(dataTable, element);\n",
              "          const docLink = document.createElement('div');\n",
              "          docLink.innerHTML = docLinkHtml;\n",
              "          element.appendChild(docLink);\n",
              "        }\n",
              "      </script>\n",
              "    </div>\n",
              "  </div>\n",
              "  "
            ]
          },
          "metadata": {},
          "execution_count": 8
        }
      ],
      "source": [
        "# Load dataset with vehicles dimensions\n",
        "DATASET_DIM = os.path.join(DATASETS_FOLDER, \"dimensions.csv\")\n",
        "df_dim = pd.read_csv(DATASET_DIM)\n",
        "df_dim = df_dim[['vehicle_id', 'length', 'width']]\n",
        "df_dim.head()"
      ]
    },
    {
      "cell_type": "code",
      "execution_count": null,
      "metadata": {
        "colab": {
          "base_uri": "https://localhost:8080/",
          "height": 206
        },
        "id": "AnJOyIkcjv_5",
        "outputId": "d750f6fb-aa23-4825-aa01-ccb17c9f8d1d"
      },
      "outputs": [
        {
          "output_type": "execute_result",
          "data": {
            "text/plain": [
              "   vehicle_id  victim_id\n",
              "0        2899       2884\n",
              "1        8351       8507\n",
              "2        6705       6636\n",
              "3        7523       7414\n",
              "4         651        541"
            ],
            "text/html": [
              "\n",
              "  <div id=\"df-f0977ff1-d148-40c9-b51b-7d98f5324567\">\n",
              "    <div class=\"colab-df-container\">\n",
              "      <div>\n",
              "<style scoped>\n",
              "    .dataframe tbody tr th:only-of-type {\n",
              "        vertical-align: middle;\n",
              "    }\n",
              "\n",
              "    .dataframe tbody tr th {\n",
              "        vertical-align: top;\n",
              "    }\n",
              "\n",
              "    .dataframe thead th {\n",
              "        text-align: right;\n",
              "    }\n",
              "</style>\n",
              "<table border=\"1\" class=\"dataframe\">\n",
              "  <thead>\n",
              "    <tr style=\"text-align: right;\">\n",
              "      <th></th>\n",
              "      <th>vehicle_id</th>\n",
              "      <th>victim_id</th>\n",
              "    </tr>\n",
              "  </thead>\n",
              "  <tbody>\n",
              "    <tr>\n",
              "      <th>0</th>\n",
              "      <td>2899</td>\n",
              "      <td>2884</td>\n",
              "    </tr>\n",
              "    <tr>\n",
              "      <th>1</th>\n",
              "      <td>8351</td>\n",
              "      <td>8507</td>\n",
              "    </tr>\n",
              "    <tr>\n",
              "      <th>2</th>\n",
              "      <td>6705</td>\n",
              "      <td>6636</td>\n",
              "    </tr>\n",
              "    <tr>\n",
              "      <th>3</th>\n",
              "      <td>7523</td>\n",
              "      <td>7414</td>\n",
              "    </tr>\n",
              "    <tr>\n",
              "      <th>4</th>\n",
              "      <td>651</td>\n",
              "      <td>541</td>\n",
              "    </tr>\n",
              "  </tbody>\n",
              "</table>\n",
              "</div>\n",
              "      <button class=\"colab-df-convert\" onclick=\"convertToInteractive('df-f0977ff1-d148-40c9-b51b-7d98f5324567')\"\n",
              "              title=\"Convert this dataframe to an interactive table.\"\n",
              "              style=\"display:none;\">\n",
              "        \n",
              "  <svg xmlns=\"http://www.w3.org/2000/svg\" height=\"24px\"viewBox=\"0 0 24 24\"\n",
              "       width=\"24px\">\n",
              "    <path d=\"M0 0h24v24H0V0z\" fill=\"none\"/>\n",
              "    <path d=\"M18.56 5.44l.94 2.06.94-2.06 2.06-.94-2.06-.94-.94-2.06-.94 2.06-2.06.94zm-11 1L8.5 8.5l.94-2.06 2.06-.94-2.06-.94L8.5 2.5l-.94 2.06-2.06.94zm10 10l.94 2.06.94-2.06 2.06-.94-2.06-.94-.94-2.06-.94 2.06-2.06.94z\"/><path d=\"M17.41 7.96l-1.37-1.37c-.4-.4-.92-.59-1.43-.59-.52 0-1.04.2-1.43.59L10.3 9.45l-7.72 7.72c-.78.78-.78 2.05 0 2.83L4 21.41c.39.39.9.59 1.41.59.51 0 1.02-.2 1.41-.59l7.78-7.78 2.81-2.81c.8-.78.8-2.07 0-2.86zM5.41 20L4 18.59l7.72-7.72 1.47 1.35L5.41 20z\"/>\n",
              "  </svg>\n",
              "      </button>\n",
              "      \n",
              "  <style>\n",
              "    .colab-df-container {\n",
              "      display:flex;\n",
              "      flex-wrap:wrap;\n",
              "      gap: 12px;\n",
              "    }\n",
              "\n",
              "    .colab-df-convert {\n",
              "      background-color: #E8F0FE;\n",
              "      border: none;\n",
              "      border-radius: 50%;\n",
              "      cursor: pointer;\n",
              "      display: none;\n",
              "      fill: #1967D2;\n",
              "      height: 32px;\n",
              "      padding: 0 0 0 0;\n",
              "      width: 32px;\n",
              "    }\n",
              "\n",
              "    .colab-df-convert:hover {\n",
              "      background-color: #E2EBFA;\n",
              "      box-shadow: 0px 1px 2px rgba(60, 64, 67, 0.3), 0px 1px 3px 1px rgba(60, 64, 67, 0.15);\n",
              "      fill: #174EA6;\n",
              "    }\n",
              "\n",
              "    [theme=dark] .colab-df-convert {\n",
              "      background-color: #3B4455;\n",
              "      fill: #D2E3FC;\n",
              "    }\n",
              "\n",
              "    [theme=dark] .colab-df-convert:hover {\n",
              "      background-color: #434B5C;\n",
              "      box-shadow: 0px 1px 3px 1px rgba(0, 0, 0, 0.15);\n",
              "      filter: drop-shadow(0px 1px 2px rgba(0, 0, 0, 0.3));\n",
              "      fill: #FFFFFF;\n",
              "    }\n",
              "  </style>\n",
              "\n",
              "      <script>\n",
              "        const buttonEl =\n",
              "          document.querySelector('#df-f0977ff1-d148-40c9-b51b-7d98f5324567 button.colab-df-convert');\n",
              "        buttonEl.style.display =\n",
              "          google.colab.kernel.accessAllowed ? 'block' : 'none';\n",
              "\n",
              "        async function convertToInteractive(key) {\n",
              "          const element = document.querySelector('#df-f0977ff1-d148-40c9-b51b-7d98f5324567');\n",
              "          const dataTable =\n",
              "            await google.colab.kernel.invokeFunction('convertToInteractive',\n",
              "                                                     [key], {});\n",
              "          if (!dataTable) return;\n",
              "\n",
              "          const docLinkHtml = 'Like what you see? Visit the ' +\n",
              "            '<a target=\"_blank\" href=https://colab.research.google.com/notebooks/data_table.ipynb>data table notebook</a>'\n",
              "            + ' to learn more about interactive tables.';\n",
              "          element.innerHTML = '';\n",
              "          dataTable['output_type'] = 'display_data';\n",
              "          await google.colab.output.renderOutput(dataTable, element);\n",
              "          const docLink = document.createElement('div');\n",
              "          docLink.innerHTML = docLinkHtml;\n",
              "          element.appendChild(docLink);\n",
              "        }\n",
              "      </script>\n",
              "    </div>\n",
              "  </div>\n",
              "  "
            ]
          },
          "metadata": {},
          "execution_count": 9
        }
      ],
      "source": [
        "# Load dataset with vehicles colision\n",
        "DATASET_COL = os.path.join(DATASETS_FOLDER, \"collisions_1k.csv\")\n",
        "df_col = pd.read_csv(DATASET_COL)\n",
        "df_col = df_col[['vehicle_id', 'victim_id']].astype(int)\n",
        "df_col.head()"
      ]
    },
    {
      "cell_type": "code",
      "execution_count": null,
      "metadata": {
        "colab": {
          "base_uri": "https://localhost:8080/",
          "height": 206
        },
        "id": "12mhfvdfjzhr",
        "outputId": "33d953db-e5f7-4f10-80be-4dcadf07eaeb"
      },
      "outputs": [
        {
          "output_type": "execute_result",
          "data": {
            "text/plain": [
              "     v1     v2\n",
              "0   6.0   85.0\n",
              "1  29.0   61.0\n",
              "2  38.0  266.0\n",
              "3  38.0  300.0\n",
              "4  38.0  315.0"
            ],
            "text/html": [
              "\n",
              "  <div id=\"df-f4188d1e-5af4-4103-bd4d-c255e1634fe0\">\n",
              "    <div class=\"colab-df-container\">\n",
              "      <div>\n",
              "<style scoped>\n",
              "    .dataframe tbody tr th:only-of-type {\n",
              "        vertical-align: middle;\n",
              "    }\n",
              "\n",
              "    .dataframe tbody tr th {\n",
              "        vertical-align: top;\n",
              "    }\n",
              "\n",
              "    .dataframe thead th {\n",
              "        text-align: right;\n",
              "    }\n",
              "</style>\n",
              "<table border=\"1\" class=\"dataframe\">\n",
              "  <thead>\n",
              "    <tr style=\"text-align: right;\">\n",
              "      <th></th>\n",
              "      <th>v1</th>\n",
              "      <th>v2</th>\n",
              "    </tr>\n",
              "  </thead>\n",
              "  <tbody>\n",
              "    <tr>\n",
              "      <th>0</th>\n",
              "      <td>6.0</td>\n",
              "      <td>85.0</td>\n",
              "    </tr>\n",
              "    <tr>\n",
              "      <th>1</th>\n",
              "      <td>29.0</td>\n",
              "      <td>61.0</td>\n",
              "    </tr>\n",
              "    <tr>\n",
              "      <th>2</th>\n",
              "      <td>38.0</td>\n",
              "      <td>266.0</td>\n",
              "    </tr>\n",
              "    <tr>\n",
              "      <th>3</th>\n",
              "      <td>38.0</td>\n",
              "      <td>300.0</td>\n",
              "    </tr>\n",
              "    <tr>\n",
              "      <th>4</th>\n",
              "      <td>38.0</td>\n",
              "      <td>315.0</td>\n",
              "    </tr>\n",
              "  </tbody>\n",
              "</table>\n",
              "</div>\n",
              "      <button class=\"colab-df-convert\" onclick=\"convertToInteractive('df-f4188d1e-5af4-4103-bd4d-c255e1634fe0')\"\n",
              "              title=\"Convert this dataframe to an interactive table.\"\n",
              "              style=\"display:none;\">\n",
              "        \n",
              "  <svg xmlns=\"http://www.w3.org/2000/svg\" height=\"24px\"viewBox=\"0 0 24 24\"\n",
              "       width=\"24px\">\n",
              "    <path d=\"M0 0h24v24H0V0z\" fill=\"none\"/>\n",
              "    <path d=\"M18.56 5.44l.94 2.06.94-2.06 2.06-.94-2.06-.94-.94-2.06-.94 2.06-2.06.94zm-11 1L8.5 8.5l.94-2.06 2.06-.94-2.06-.94L8.5 2.5l-.94 2.06-2.06.94zm10 10l.94 2.06.94-2.06 2.06-.94-2.06-.94-.94-2.06-.94 2.06-2.06.94z\"/><path d=\"M17.41 7.96l-1.37-1.37c-.4-.4-.92-.59-1.43-.59-.52 0-1.04.2-1.43.59L10.3 9.45l-7.72 7.72c-.78.78-.78 2.05 0 2.83L4 21.41c.39.39.9.59 1.41.59.51 0 1.02-.2 1.41-.59l7.78-7.78 2.81-2.81c.8-.78.8-2.07 0-2.86zM5.41 20L4 18.59l7.72-7.72 1.47 1.35L5.41 20z\"/>\n",
              "  </svg>\n",
              "      </button>\n",
              "      \n",
              "  <style>\n",
              "    .colab-df-container {\n",
              "      display:flex;\n",
              "      flex-wrap:wrap;\n",
              "      gap: 12px;\n",
              "    }\n",
              "\n",
              "    .colab-df-convert {\n",
              "      background-color: #E8F0FE;\n",
              "      border: none;\n",
              "      border-radius: 50%;\n",
              "      cursor: pointer;\n",
              "      display: none;\n",
              "      fill: #1967D2;\n",
              "      height: 32px;\n",
              "      padding: 0 0 0 0;\n",
              "      width: 32px;\n",
              "    }\n",
              "\n",
              "    .colab-df-convert:hover {\n",
              "      background-color: #E2EBFA;\n",
              "      box-shadow: 0px 1px 2px rgba(60, 64, 67, 0.3), 0px 1px 3px 1px rgba(60, 64, 67, 0.15);\n",
              "      fill: #174EA6;\n",
              "    }\n",
              "\n",
              "    [theme=dark] .colab-df-convert {\n",
              "      background-color: #3B4455;\n",
              "      fill: #D2E3FC;\n",
              "    }\n",
              "\n",
              "    [theme=dark] .colab-df-convert:hover {\n",
              "      background-color: #434B5C;\n",
              "      box-shadow: 0px 1px 3px 1px rgba(0, 0, 0, 0.15);\n",
              "      filter: drop-shadow(0px 1px 2px rgba(0, 0, 0, 0.3));\n",
              "      fill: #FFFFFF;\n",
              "    }\n",
              "  </style>\n",
              "\n",
              "      <script>\n",
              "        const buttonEl =\n",
              "          document.querySelector('#df-f4188d1e-5af4-4103-bd4d-c255e1634fe0 button.colab-df-convert');\n",
              "        buttonEl.style.display =\n",
              "          google.colab.kernel.accessAllowed ? 'block' : 'none';\n",
              "\n",
              "        async function convertToInteractive(key) {\n",
              "          const element = document.querySelector('#df-f4188d1e-5af4-4103-bd4d-c255e1634fe0');\n",
              "          const dataTable =\n",
              "            await google.colab.kernel.invokeFunction('convertToInteractive',\n",
              "                                                     [key], {});\n",
              "          if (!dataTable) return;\n",
              "\n",
              "          const docLinkHtml = 'Like what you see? Visit the ' +\n",
              "            '<a target=\"_blank\" href=https://colab.research.google.com/notebooks/data_table.ipynb>data table notebook</a>'\n",
              "            + ' to learn more about interactive tables.';\n",
              "          element.innerHTML = '';\n",
              "          dataTable['output_type'] = 'display_data';\n",
              "          await google.colab.output.renderOutput(dataTable, element);\n",
              "          const docLink = document.createElement('div');\n",
              "          docLink.innerHTML = docLinkHtml;\n",
              "          element.appendChild(docLink);\n",
              "        }\n",
              "      </script>\n",
              "    </div>\n",
              "  </div>\n",
              "  "
            ]
          },
          "metadata": {},
          "execution_count": 10
        }
      ],
      "source": [
        "# Load dataset with vehicles no-colision\n",
        "DATASET_NOCOL = os.path.join(DATASETS_FOLDER, \"no_collisions_1k.csv\")\n",
        "df_nocol = pd.read_csv(DATASET_NOCOL)\n",
        "df_nocol = df_nocol[['v1', 'v2']]\n",
        "df_nocol.head()"
      ]
    },
    {
      "cell_type": "markdown",
      "metadata": {
        "id": "eR2cpUKJkgoM"
      },
      "source": [
        "# 2. Cálculo de la probabilidad de colisión"
      ]
    },
    {
      "cell_type": "code",
      "source": [
        "# To get a rotated rectangle at a bearing, you need to get the points of the the recatangle at that bearing\n",
        "def get_rotated_points(coordinates, bearing, width, length):\n",
        "  start = geopy.Point(coordinates)\n",
        "  width = width/1000\n",
        "  length = length/1000\n",
        "  rectlength = geopy.distance.distance(kilometers=length)\n",
        "  rectwidth = geopy.distance.distance(kilometers=width)\n",
        "  halfwidth = geopy.distance.distance(kilometers=width/2)\n",
        "  halflength = geopy.distance.distance(kilometers=length/2)\n",
        "\n",
        "  pointAB = halflength.destination(point=start, bearing=bearing)\n",
        "  pointA = halfwidth.destination(point=pointAB, bearing=0 - bearing)\n",
        "  pointB = rectwidth.destination(point=pointA, bearing=180 - bearing)\n",
        "  pointC = rectlength.destination(point=pointB, bearing=bearing - 180)\n",
        "  pointD = rectwidth.destination(point=pointC, bearing=0 - bearing)\n",
        "\n",
        "  points = []\n",
        "  for point in [pointA, pointB, pointC, pointD]:\n",
        "    coords = (point.latitude, point.longitude)\n",
        "    points.append(coords)\n",
        "\n",
        "  return points\n",
        "\n",
        "\n",
        "def get_collision(v1_id, v2_id, v1_coords, v2_coords, dimensions):\n",
        "  colision = 0\n",
        "\n",
        "  v1_length = dimensions[dimensions['vehicle_id'] == v1_id].iloc[0, 1]\n",
        "  v1_width = dimensions[dimensions['vehicle_id'] == v1_id].iloc[0, 2]\n",
        "  v1_points = get_rotated_points(tuple(v1_coords[:2]), v1_coords[2],\n",
        "                                 v1_width, v1_length)\n",
        "  polygon1 = geometry.Polygon(v1_points)\n",
        "\n",
        "  v2_length = dimensions[dimensions['vehicle_id'] == v2_id].iloc[0, 1]\n",
        "  v2_width = dimensions[dimensions['vehicle_id'] == v2_id].iloc[0, 2]\n",
        "  v2_points = get_rotated_points(tuple(v2_coords[:2]), v2_coords[2],\n",
        "                                 v2_width, v2_length)\n",
        "  polygon2 = geometry.Polygon(v2_points)\n",
        "\n",
        "  if polygon1.intersection(polygon2).area > 0.0:\n",
        "    colision = 1\n",
        "  \n",
        "  return colision\n",
        "\n",
        "\n",
        "def calculate_variance(values):\n",
        "    # Calculate the mean of the values\n",
        "    mean = np.mean(values)\n",
        "\n",
        "    # Calculate the variance by summing the squared differences\n",
        "    # between each value and the mean, and dividing by the number of values\n",
        "    variance = np.sum((values - mean) ** 2) / len(values)\n",
        "\n",
        "    return variance\n",
        "\n",
        "\n",
        "def calculate_covariance(values1, values2):\n",
        "    # Calculate the means of the values\n",
        "    mean1 = np.mean(values1)\n",
        "    mean2 = np.mean(values2)\n",
        "\n",
        "    # Calculate the covariance by summing the products of the differences\n",
        "    # between each pair of values and the means, and dividing by the number of values\n",
        "    covariance = np.sum((values1 - mean1) * (values2 - mean2)) / len(values1)\n",
        "\n",
        "    return covariance\n",
        "\n",
        "\n",
        "def calculate_covariance_matrix(latitudes, longitudes, thetas):\n",
        "    # Calculate the variance of the coordinates and orientation\n",
        "    # var_lat = calculate_variance(latitudes) # or np.var(latitudes)\n",
        "    # var_long = calculate_variance(longitudes) # or np.var(longitudes)\n",
        "    # var_theta = calculate_variance(thetas)  # or np.var(thetas)\n",
        "    var_lat = np.var(latitudes)\n",
        "    var_long = np.var(longitudes)\n",
        "    var_theta = np.var(thetas)\n",
        "\n",
        "    # Calculate the covariance between the coordinates and orientation\n",
        "    cov_latlong = calculate_covariance(latitudes, longitudes)\n",
        "    cov_lattheta = calculate_covariance(latitudes, thetas)\n",
        "    cov_longtheta = calculate_covariance(longitudes, thetas)\n",
        "\n",
        "    # Return the covariance matrix\n",
        "    return np.array([[var_lat, cov_latlong, cov_lattheta],\n",
        "                     [cov_latlong, var_long, cov_longtheta],\n",
        "                     [cov_lattheta, cov_longtheta, var_theta]])\n",
        "\n",
        "\n",
        "def calculate_pdf(y_pred):\n",
        "    # Calculate the mean position of the vehicle based on its coordinates and orientation\n",
        "    mean = [np.mean(y_pred[:, 0]), np.mean(y_pred[:, 1]), np.mean(y_pred[:, 2])]\n",
        "\n",
        "    # Calculate the covariance matrix of the vehicle's position based on its coordinates and orientation\n",
        "    covariance = calculate_covariance_matrix(y_pred[:, 0], y_pred[:, 1], y_pred[:, 2])\n",
        "\n",
        "    # Return the probability density function for the vehicle\n",
        "    return scipy.stats.multivariate_normal(mean=mean, cov=covariance,\n",
        "                                           allow_singular=True)\n",
        "\n",
        "\n",
        "def collision_probability(y_pred1, y_pred2, num_samples=1000):\n",
        "  # Calculate the probability density function for both vehicles\n",
        "  pdf1 = calculate_pdf(y_pred1)\n",
        "  pdf2 = calculate_pdf(y_pred2)\n",
        "\n",
        "  # Generate random samples for the positions of both vehicles\n",
        "  samples1 = pdf1.rvs(size=num_samples)\n",
        "  samples2 = pdf2.rvs(size=num_samples)\n",
        "\n",
        "  # Calculate the number of samples where the vehicles are closer\n",
        "  collisions = 0\n",
        "  for i in range(num_samples):\n",
        "    # Check if there is collision between the vehicles\n",
        "    if get_collision(v1_id, v2_id, samples1[i], samples2[i], df_dim):\n",
        "      collisions += 1\n",
        "\n",
        "  # Return the fraction of samples where the vehicles collide\n",
        "  return collisions / num_samples"
      ],
      "metadata": {
        "id": "jyRpmOwh9VqT"
      },
      "execution_count": null,
      "outputs": []
    },
    {
      "cell_type": "markdown",
      "source": [
        "## 2.1. Análisis de tiempos"
      ],
      "metadata": {
        "id": "T-0EWyfMYu_t"
      }
    },
    {
      "cell_type": "code",
      "source": [
        "# We use the same vehicles for all tests\n",
        "v1_id = df_col.iloc[0, 0]\n",
        "v2_id = df_col.iloc[0, 1]\n",
        "\n",
        "y_v1 = np.array(df[df['vehicle_id'] == v1_id].iloc[-5:, 2:]).reshape(-1, 3)\n",
        "y_v2 = np.array(df[df['vehicle_id'] == v2_id].iloc[-5:, 2:]).reshape(-1, 3)"
      ],
      "metadata": {
        "id": "5E7qwGmihAbV"
      },
      "execution_count": null,
      "outputs": []
    },
    {
      "cell_type": "markdown",
      "source": [
        "### 2.1.1. 100 muestras"
      ],
      "metadata": {
        "id": "xk5V493uYzV9"
      }
    },
    {
      "cell_type": "code",
      "source": [
        "start = time.time()\n",
        "collision_prob = collision_probability(y_v1, y_v2, num_samples=100)\n",
        "total_time = time.time() - start\n",
        "print(\"Execution time (s): \", total_time)\n",
        "print(\"Collision probability: \", collision_prob)"
      ],
      "metadata": {
        "colab": {
          "base_uri": "https://localhost:8080/"
        },
        "id": "O_wRzyI6Tei-",
        "outputId": "fd759775-7b73-4467-e53e-3eefd63f2e32"
      },
      "execution_count": null,
      "outputs": [
        {
          "output_type": "stream",
          "name": "stderr",
          "text": [
            "/usr/local/lib/python3.8/dist-packages/shapely/set_operations.py:133: RuntimeWarning: invalid value encountered in intersection\n",
            "  return lib.intersection(a, b, **kwargs)\n"
          ]
        },
        {
          "output_type": "stream",
          "name": "stdout",
          "text": [
            "Execution time (s):  0.34806156158447266\n",
            "Collision probability:  0.19\n"
          ]
        }
      ]
    },
    {
      "cell_type": "markdown",
      "source": [
        "### 2.1.2. 250 muestras"
      ],
      "metadata": {
        "id": "O1WYFUo0b3T5"
      }
    },
    {
      "cell_type": "code",
      "source": [
        "start = time.time()\n",
        "collision_prob = collision_probability(y_v1, y_v2, num_samples=250)\n",
        "total_time = time.time() - start\n",
        "print(\"Execution time (s): \", total_time)\n",
        "print(\"Collision probability: \", collision_prob)"
      ],
      "metadata": {
        "colab": {
          "base_uri": "https://localhost:8080/"
        },
        "id": "d504tSIab621",
        "outputId": "5b02555e-65d3-45c6-df5b-a847bbbc5a99"
      },
      "execution_count": null,
      "outputs": [
        {
          "output_type": "stream",
          "name": "stdout",
          "text": [
            "Execution time (s):  0.711021900177002\n",
            "Collision probability:  0.176\n"
          ]
        }
      ]
    },
    {
      "cell_type": "markdown",
      "source": [
        "### 2.1.3 350 muestras"
      ],
      "metadata": {
        "id": "oBbmUMQRcAKM"
      }
    },
    {
      "cell_type": "code",
      "source": [
        "start = time.time()\n",
        "collision_prob = collision_probability(y_v1, y_v2, num_samples=350)\n",
        "total_time = time.time() - start\n",
        "print(\"Execution time (s): \", total_time)\n",
        "print(\"Collision probability: \", collision_prob)"
      ],
      "metadata": {
        "colab": {
          "base_uri": "https://localhost:8080/"
        },
        "id": "q-GupcJEcHXt",
        "outputId": "743e6aa0-716a-4911-fd71-aab2a1abfc3d"
      },
      "execution_count": null,
      "outputs": [
        {
          "output_type": "stream",
          "name": "stdout",
          "text": [
            "Execution time (s):  0.9332079887390137\n",
            "Collision probability:  0.1657142857142857\n"
          ]
        }
      ]
    },
    {
      "cell_type": "markdown",
      "source": [
        "### 2.1.4. 500 muestras"
      ],
      "metadata": {
        "id": "UereWgpsY7JX"
      }
    },
    {
      "cell_type": "code",
      "source": [
        "start = time.time()\n",
        "collision_prob = collision_probability(y_v1, y_v2, num_samples=500)\n",
        "total_time = time.time() - start\n",
        "print(\"Execution time (s): \", total_time)\n",
        "print(\"Collision probability: \", collision_prob)"
      ],
      "metadata": {
        "colab": {
          "base_uri": "https://localhost:8080/"
        },
        "id": "16nNs0zcY-yP",
        "outputId": "98f4717c-653d-431d-ad6f-eace6b71f585"
      },
      "execution_count": null,
      "outputs": [
        {
          "output_type": "stream",
          "name": "stdout",
          "text": [
            "Execution time (s):  1.2890450954437256\n",
            "Collision probability:  0.202\n"
          ]
        }
      ]
    },
    {
      "cell_type": "markdown",
      "source": [
        "### 2.1.5. 1000 muestras"
      ],
      "metadata": {
        "id": "rRLXUH6-ZBDj"
      }
    },
    {
      "cell_type": "code",
      "source": [
        "start = time.time()\n",
        "collision_prob = collision_probability(y_v1, y_v2, num_samples=1000)\n",
        "total_time = time.time() - start\n",
        "print(\"Execution time (s): \", total_time)\n",
        "print(\"Collision probability: \", collision_prob)"
      ],
      "metadata": {
        "colab": {
          "base_uri": "https://localhost:8080/"
        },
        "id": "OxqNejgbZEvr",
        "outputId": "a3a4f1c4-82dc-4234-8b50-ccb9151bebb6"
      },
      "execution_count": null,
      "outputs": [
        {
          "output_type": "stream",
          "name": "stdout",
          "text": [
            "Execution time (s):  2.5438365936279297\n",
            "Collision probability:  0.189\n"
          ]
        }
      ]
    },
    {
      "cell_type": "markdown",
      "source": [
        "## 2.2. Probabilidad de colisión en el conjunto de datos"
      ],
      "metadata": {
        "id": "awp8xbs5ZHsW"
      }
    },
    {
      "cell_type": "code",
      "source": [
        "import warnings\n",
        "warnings.filterwarnings('ignore')"
      ],
      "metadata": {
        "id": "mAB2ERoGv8sh"
      },
      "execution_count": null,
      "outputs": []
    },
    {
      "cell_type": "code",
      "source": [
        "PREDICT=True\n",
        "SAMPLES=350\n",
        "\n",
        "col_array = np.empty((0, 5))\n",
        "\n",
        "# Vehiculos que coinciden y colisionan\n",
        "for i in range(df_col.shape[0]):\n",
        "  v1_id = df_col.iloc[i, 0]\n",
        "  v2_id = df_col.iloc[i, 1]\n",
        "\n",
        "  if PREDICT:\n",
        "    v1_index = vehicle_ids.index(v1_id)\n",
        "    y_v1 = model.predict(X_test[v1_index].reshape(1, 20, 3), verbose=0)\n",
        "    y_v1 = minmaxscaler.inverse_transform(y_v1.reshape(-1, 3))\n",
        "    y_v1 = y_v1.reshape(-1, 3)\n",
        "\n",
        "    v2_index = vehicle_ids.index(v2_id)\n",
        "    y_v2 = model.predict(X_test[v2_index].reshape(1, 20, 3), verbose=0)\n",
        "    y_v2 = minmaxscaler.inverse_transform(y_v2.reshape(-1, 3))\n",
        "    y_v2 = y_v2.reshape(-1, 3)\n",
        "  else:\n",
        "    y_v1 = np.array(df[df['vehicle_id'] == v1_id].iloc[-5:, 2:]).reshape(-1, 3)\n",
        "    y_v2 = np.array(df[df['vehicle_id'] == v2_id].iloc[-5:, 2:]).reshape(-1, 3)\n",
        "\n",
        "  start = time.time()\n",
        "  collision_prob = collision_probability(y_v1, y_v2, num_samples=SAMPLES)\n",
        "  total_time = time.time() - start\n",
        "  col_array = np.vstack((col_array,\n",
        "                         np.array([v1_id, v2_id, total_time, collision_prob, 1])))\n",
        "\n",
        "# Vehiculos que coinciden pero no colisionan\n",
        "for i in range(df_nocol.shape[0]):\n",
        "  v1_id = df_nocol.iloc[i, 0]\n",
        "  v2_id = df_nocol.iloc[i, 1]\n",
        "\n",
        "  if PREDICT:\n",
        "    v1_index = vehicle_ids.index(v1_id)\n",
        "    y_v1 = model.predict(X_test[v1_index].reshape(1, 20, 3), verbose=0)\n",
        "    y_v1 = minmaxscaler.inverse_transform(y_v1.reshape(-1, 3))\n",
        "    y_v1 = y_v1.reshape(-1, 3)\n",
        "\n",
        "    v2_index = vehicle_ids.index(v2_id)\n",
        "    y_v2 = model.predict(X_test[v2_index].reshape(1, 20, 3), verbose=0)\n",
        "    y_v2 = minmaxscaler.inverse_transform(y_v2.reshape(-1, 3))\n",
        "    y_v2 = y_v2.reshape(-1, 3)\n",
        "  else:\n",
        "    y_v1 = np.array(df[df['vehicle_id'] == v1_id].iloc[-5:, 2:]).reshape(-1, 3)\n",
        "    y_v2 = np.array(df[df['vehicle_id'] == v2_id].iloc[-5:, 2:]).reshape(-1, 3)\n",
        "\n",
        "  start = time.time()\n",
        "  collision_prob = collision_probability(y_v1, y_v2, num_samples=SAMPLES)\n",
        "  total_time = time.time() - start\n",
        "  col_array = np.vstack((col_array,\n",
        "                         np.array([v1_id, v2_id, total_time, collision_prob, 0])))"
      ],
      "metadata": {
        "id": "vNRmuKYRktks"
      },
      "execution_count": null,
      "outputs": []
    },
    {
      "cell_type": "code",
      "source": [
        "if PREDICT:\n",
        "  PROB_FILE = os.path.join(MODEL_FOLDER, \"collision_prob.csv\")\n",
        "else:\n",
        "  PROB_FILE = os.path.join(DATASETS_FOLDER, \"collision_prob.csv\")\n",
        "\n",
        "df_collision_prob = pd.DataFrame(\n",
        "    col_array.reshape(-1, 5),\n",
        "    columns=['vehicle1', 'vehicle2', 'execution_time', 'probability', 'collision'])\n",
        "df_collision_prob.to_csv(PROB_FILE, index=False)\n",
        "df_collision_prob.head()"
      ],
      "metadata": {
        "colab": {
          "base_uri": "https://localhost:8080/",
          "height": 206
        },
        "id": "acTAr8n4rrAm",
        "outputId": "22c8b7a1-5146-45b0-816f-0e5a740694d4"
      },
      "execution_count": null,
      "outputs": [
        {
          "output_type": "execute_result",
          "data": {
            "text/plain": [
              "   vehicle1  vehicle2  execution_time  probability  collision\n",
              "0    2899.0    2884.0        0.901103     0.000000        1.0\n",
              "1    8351.0    8507.0        0.879874     0.002857        1.0\n",
              "2    6705.0    6636.0        0.894687     0.000000        1.0\n",
              "3    7523.0    7414.0        0.896283     0.000000        1.0\n",
              "4     651.0     541.0        0.894848     0.140000        1.0"
            ],
            "text/html": [
              "\n",
              "  <div id=\"df-d8cca893-0c71-4036-85f7-f793892450bd\">\n",
              "    <div class=\"colab-df-container\">\n",
              "      <div>\n",
              "<style scoped>\n",
              "    .dataframe tbody tr th:only-of-type {\n",
              "        vertical-align: middle;\n",
              "    }\n",
              "\n",
              "    .dataframe tbody tr th {\n",
              "        vertical-align: top;\n",
              "    }\n",
              "\n",
              "    .dataframe thead th {\n",
              "        text-align: right;\n",
              "    }\n",
              "</style>\n",
              "<table border=\"1\" class=\"dataframe\">\n",
              "  <thead>\n",
              "    <tr style=\"text-align: right;\">\n",
              "      <th></th>\n",
              "      <th>vehicle1</th>\n",
              "      <th>vehicle2</th>\n",
              "      <th>execution_time</th>\n",
              "      <th>probability</th>\n",
              "      <th>collision</th>\n",
              "    </tr>\n",
              "  </thead>\n",
              "  <tbody>\n",
              "    <tr>\n",
              "      <th>0</th>\n",
              "      <td>2899.0</td>\n",
              "      <td>2884.0</td>\n",
              "      <td>0.901103</td>\n",
              "      <td>0.000000</td>\n",
              "      <td>1.0</td>\n",
              "    </tr>\n",
              "    <tr>\n",
              "      <th>1</th>\n",
              "      <td>8351.0</td>\n",
              "      <td>8507.0</td>\n",
              "      <td>0.879874</td>\n",
              "      <td>0.002857</td>\n",
              "      <td>1.0</td>\n",
              "    </tr>\n",
              "    <tr>\n",
              "      <th>2</th>\n",
              "      <td>6705.0</td>\n",
              "      <td>6636.0</td>\n",
              "      <td>0.894687</td>\n",
              "      <td>0.000000</td>\n",
              "      <td>1.0</td>\n",
              "    </tr>\n",
              "    <tr>\n",
              "      <th>3</th>\n",
              "      <td>7523.0</td>\n",
              "      <td>7414.0</td>\n",
              "      <td>0.896283</td>\n",
              "      <td>0.000000</td>\n",
              "      <td>1.0</td>\n",
              "    </tr>\n",
              "    <tr>\n",
              "      <th>4</th>\n",
              "      <td>651.0</td>\n",
              "      <td>541.0</td>\n",
              "      <td>0.894848</td>\n",
              "      <td>0.140000</td>\n",
              "      <td>1.0</td>\n",
              "    </tr>\n",
              "  </tbody>\n",
              "</table>\n",
              "</div>\n",
              "      <button class=\"colab-df-convert\" onclick=\"convertToInteractive('df-d8cca893-0c71-4036-85f7-f793892450bd')\"\n",
              "              title=\"Convert this dataframe to an interactive table.\"\n",
              "              style=\"display:none;\">\n",
              "        \n",
              "  <svg xmlns=\"http://www.w3.org/2000/svg\" height=\"24px\"viewBox=\"0 0 24 24\"\n",
              "       width=\"24px\">\n",
              "    <path d=\"M0 0h24v24H0V0z\" fill=\"none\"/>\n",
              "    <path d=\"M18.56 5.44l.94 2.06.94-2.06 2.06-.94-2.06-.94-.94-2.06-.94 2.06-2.06.94zm-11 1L8.5 8.5l.94-2.06 2.06-.94-2.06-.94L8.5 2.5l-.94 2.06-2.06.94zm10 10l.94 2.06.94-2.06 2.06-.94-2.06-.94-.94-2.06-.94 2.06-2.06.94z\"/><path d=\"M17.41 7.96l-1.37-1.37c-.4-.4-.92-.59-1.43-.59-.52 0-1.04.2-1.43.59L10.3 9.45l-7.72 7.72c-.78.78-.78 2.05 0 2.83L4 21.41c.39.39.9.59 1.41.59.51 0 1.02-.2 1.41-.59l7.78-7.78 2.81-2.81c.8-.78.8-2.07 0-2.86zM5.41 20L4 18.59l7.72-7.72 1.47 1.35L5.41 20z\"/>\n",
              "  </svg>\n",
              "      </button>\n",
              "      \n",
              "  <style>\n",
              "    .colab-df-container {\n",
              "      display:flex;\n",
              "      flex-wrap:wrap;\n",
              "      gap: 12px;\n",
              "    }\n",
              "\n",
              "    .colab-df-convert {\n",
              "      background-color: #E8F0FE;\n",
              "      border: none;\n",
              "      border-radius: 50%;\n",
              "      cursor: pointer;\n",
              "      display: none;\n",
              "      fill: #1967D2;\n",
              "      height: 32px;\n",
              "      padding: 0 0 0 0;\n",
              "      width: 32px;\n",
              "    }\n",
              "\n",
              "    .colab-df-convert:hover {\n",
              "      background-color: #E2EBFA;\n",
              "      box-shadow: 0px 1px 2px rgba(60, 64, 67, 0.3), 0px 1px 3px 1px rgba(60, 64, 67, 0.15);\n",
              "      fill: #174EA6;\n",
              "    }\n",
              "\n",
              "    [theme=dark] .colab-df-convert {\n",
              "      background-color: #3B4455;\n",
              "      fill: #D2E3FC;\n",
              "    }\n",
              "\n",
              "    [theme=dark] .colab-df-convert:hover {\n",
              "      background-color: #434B5C;\n",
              "      box-shadow: 0px 1px 3px 1px rgba(0, 0, 0, 0.15);\n",
              "      filter: drop-shadow(0px 1px 2px rgba(0, 0, 0, 0.3));\n",
              "      fill: #FFFFFF;\n",
              "    }\n",
              "  </style>\n",
              "\n",
              "      <script>\n",
              "        const buttonEl =\n",
              "          document.querySelector('#df-d8cca893-0c71-4036-85f7-f793892450bd button.colab-df-convert');\n",
              "        buttonEl.style.display =\n",
              "          google.colab.kernel.accessAllowed ? 'block' : 'none';\n",
              "\n",
              "        async function convertToInteractive(key) {\n",
              "          const element = document.querySelector('#df-d8cca893-0c71-4036-85f7-f793892450bd');\n",
              "          const dataTable =\n",
              "            await google.colab.kernel.invokeFunction('convertToInteractive',\n",
              "                                                     [key], {});\n",
              "          if (!dataTable) return;\n",
              "\n",
              "          const docLinkHtml = 'Like what you see? Visit the ' +\n",
              "            '<a target=\"_blank\" href=https://colab.research.google.com/notebooks/data_table.ipynb>data table notebook</a>'\n",
              "            + ' to learn more about interactive tables.';\n",
              "          element.innerHTML = '';\n",
              "          dataTable['output_type'] = 'display_data';\n",
              "          await google.colab.output.renderOutput(dataTable, element);\n",
              "          const docLink = document.createElement('div');\n",
              "          docLink.innerHTML = docLinkHtml;\n",
              "          element.appendChild(docLink);\n",
              "        }\n",
              "      </script>\n",
              "    </div>\n",
              "  </div>\n",
              "  "
            ]
          },
          "metadata": {},
          "execution_count": 23
        }
      ]
    }
  ]
}